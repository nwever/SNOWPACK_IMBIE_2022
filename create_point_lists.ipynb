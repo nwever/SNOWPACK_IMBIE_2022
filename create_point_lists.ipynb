{
 "cells": [
  {
   "cell_type": "markdown",
   "metadata": {},
   "source": [
    "# Map points to drainage basins and ice sheets\n",
    "This notebook provides a mapping between points for which SNOWPACK was run and the drainage basins and ice sheets they belong to."
   ]
  },
  {
   "cell_type": "code",
   "execution_count": 1,
   "metadata": {},
   "outputs": [],
   "source": [
    "import re\n",
    "import numpy as np\n",
    "import fiona\n",
    "import pyproj\n",
    "\n",
    "from shapely.geometry import Polygon, Point, shape\n",
    "from shapely.ops import transform\n",
    "import shapely.prepared\n",
    "\n",
    "# Initialize projections\n",
    "wgs84 = pyproj.CRS('EPSG:4326')  # WGS 84\n",
    "aps = pyproj.CRS('EPSG:3031')    # Antarctic Polar Stereographic\n",
    "project_to_aps = pyproj.Transformer.from_crs(wgs84, aps, always_xy=True).transform"
   ]
  },
  {
   "cell_type": "markdown",
   "metadata": {},
   "source": [
    "# Read SNOWPACK points\n",
    "SNOWPACK.pts should contain <latitude> <longitude> for all SNOWPACK run points"
   ]
  },
  {
   "cell_type": "code",
   "execution_count": 2,
   "metadata": {},
   "outputs": [],
   "source": [
    "# Read points for which we performed SNOWPACK simulations\n",
    "SP_pts = np.loadtxt(\"SNOWPACK.pts\", comments=\"#\", delimiter=\" \", unpack=False)"
   ]
  },
  {
   "cell_type": "markdown",
   "metadata": {},
   "source": [
    "# Read in drainage basins and icesheet boundaries\n",
    "These files were obtained from http://imbie.org/imbie-3/drainage-basins/"
   ]
  },
  {
   "cell_type": "code",
   "execution_count": 3,
   "metadata": {},
   "outputs": [],
   "source": [
    "# Rignot\n",
    "ais_basins_shapefile=\"./rignot/ANT_Basins_IMBIE2_v1.6.shp\"                            # in Antarctic Polar Stereographic\n",
    "ais_icesheets_shapefile=\"./rignot/ANT_IceSheets_IMBIE2/ANT_IceSheets_IMBIE2_v1.6.shp\" # in Antarctic Polar Stereographic\n",
    "gris_basins_shapefile=\"./rignot/GRE_Basins_IMBIE2_v1.3.shp\"                           # in EPSG:4326\n",
    "gris_icesheets_shapefile=\"./rignot/GRE_IceSheet_IMBIE2/GRE_IceSheet_IMBIE2_v1.shp\"    # in EPSG:4326\n",
    "\n",
    "# Zwally\n",
    "ais_basins_shapefile_zwally=\"./zwally/\"\n",
    "ais_icesheets_shapefile_zwally=\"./zwally/Ant_Grounded_IceSheets_Polygon-1.txt\"        # in EPSG:4326\n",
    "gris_basins_shapefile_zwally=\"./zwally/\"\n",
    "gris_icesheets_shapefile_zwally=\"./zwally/GrnIceSheet_Ekholm-1.txt\"                   # in EPSG:4326\n",
    "\n",
    "# Mappings:\n",
    "AIS = [\"None\" for i in range(31)]\n",
    "AIS[28]=\"AP\"\n",
    "AIS[29]=\"WAIS\"\n",
    "AIS[30]=\"EAIS\""
   ]
  },
  {
   "cell_type": "markdown",
   "metadata": {},
   "source": [
    "## Read in Zwally delineations"
   ]
  },
  {
   "cell_type": "code",
   "execution_count": 4,
   "metadata": {},
   "outputs": [],
   "source": [
    "#\n",
    "# Antarctica (note, we convert polygons to EPSG:3031, to be able to properly use .contain())\n",
    "# Since the South Pole is contained in the polygons, the polygon wraps around the South Pole.\n",
    "#\n",
    "AIS_pl_zw = [\"None\" for i in range(31)]   # Initialize array\n",
    "for i in range(28,31):                    # 28-30: See mappings above\n",
    "    f = open(ais_icesheets_shapefile_zwally, \"r\")\n",
    "    # Skip header\n",
    "    for l in f:\n",
    "        if l == \"END OF HEADER\\n\":\n",
    "            break\n",
    "    # Read polygon\n",
    "    pl = []\n",
    "    for l in f:\n",
    "        l_s = re.split(' +', l.replace(\"\\n\", \"\").replace(\"\\t\", \" \").lstrip().rstrip())\n",
    "        if len(l_s)==3 and int(l_s[2])==i:\n",
    "            pt = Point(float(l_s[1]), float(l_s[0]))   # WGS-84, EPSG:4326\n",
    "            pt_aps = transform(project_to_aps, pt)     # Antarctic Polar Stereographic, EPSG: 3031\n",
    "            pl.append([pt_aps.x, pt_aps.y])\n",
    "    f.close()\n",
    "    AIS_pl_zw[i]=shapely.prepared.prep(Polygon(pl))"
   ]
  },
  {
   "cell_type": "code",
   "execution_count": 5,
   "metadata": {},
   "outputs": [],
   "source": [
    "#\n",
    "# Greenland\n",
    "#\n",
    "GrIS_pl_zw = \"None\"\n",
    "f = open(gris_icesheets_shapefile_zwally, \"r\")\n",
    "pl = []\n",
    "for l in f:\n",
    "    # Skip header\n",
    "    if l == \"END OF HEADER\\n\":\n",
    "        break\n",
    "# Read polygon\n",
    "for l in f:\n",
    "    l_s = re.split(' +', l.replace(\"\\n\", \"\").replace(\"\\t\", \" \").lstrip().rstrip())\n",
    "    if len(l_s)==3 and int(l_s[0])==9:\n",
    "        pl.append([float(l_s[2])-360., float(l_s[1])])\n",
    "f.close()\n",
    "GrIS_pl_zw=shapely.prepared.prep(Polygon(pl))"
   ]
  },
  {
   "cell_type": "markdown",
   "metadata": {},
   "source": [
    "# Loop over SNOWPACK points and list in which drainage basin and ice sheet they are located"
   ]
  },
  {
   "cell_type": "code",
   "execution_count": 6,
   "metadata": {},
   "outputs": [
    {
     "name": "stdout",
     "output_type": "stream",
     "text": [
      "#lat lon Ant/Gr Ant_IS_R Ant_ISSub_R Ant_Basin_R Ant_BasinSub_R Gr_IS_R Gr_Basin_R, Ant_IS_Z Ant_ISSub_Z Ant_Basin_Z Ant_BasinSub_Z Gr_IS_Z Gr_Basin_Z\n",
      "# *_R = Rignot, Z = *_Zwally\n",
      "-72.2 -69.7 Ant Islands None Islands None None None None None None None None None\n",
      "-69.7 -72.2 Ant Islands None Islands None None None None None None None None None\n",
      "-77.5 -67.5 None None None None None None None None None None None None None\n",
      "-67.5 -77.5 None None None None None None None None None None None None None\n",
      "-83.0 -105.625 Ant West None West Ep-F None None WAIS None None None None None\n",
      "-85.0 -128.75 Ant West None West Ep-F None None EAIS None None None None None\n",
      "-85.0 128.75 Ant East None East E-Ep None None EAIS None None None None None\n",
      "-85.0 -13.125 Ant East None East Jpp-K None None EAIS None None None None None\n",
      "-85.0 -132.5 Ant West None West Ep-F None None EAIS None None None None None\n",
      "-85.0 132.5 Ant East None East E-Ep None None EAIS None None None None None\n",
      "-85.0 -135.625 Ant West None West Ep-F None None EAIS None None None None None\n",
      "-85.0 137.5 Ant East None East E-Ep None None EAIS None None None None None\n",
      "-85.0 -138.125 Ant West None West Ep-F None None EAIS None None None None None\n",
      "-85.0 -139.375 Ant West None West Ep-F None None EAIS None None None None None\n",
      "-85.0 -140.625 Ant West None West Ep-F None None EAIS None None None None None\n",
      "-85.0 140.625 Ant East None East E-Ep None None EAIS None None None None None\n",
      "-85.0 -141.875 Ant West None West Ep-F None None EAIS None None None None None\n",
      "-85.0 143.125 Ant East None East E-Ep None None EAIS None None None None None\n",
      "-85.0 -144.375 Ant West None West Ep-F None None EAIS None None None None None\n",
      "-85.0 145.0 Ant East None East E-Ep None None EAIS None None None None None\n",
      "-85.0 146.875 Ant East None East E-Ep None None EAIS None None None None None\n",
      "-85.0 -148.75 Ant West None West Ep-F None None EAIS None None None None None\n",
      "-85.0 148.75 Ant East None East E-Ep None None EAIS None None None None None\n",
      "-85.0 150.625 Ant East None East E-Ep None None EAIS None None None None None\n",
      "-85.0 152.5 Ant East None East E-Ep None None EAIS None None None None None\n",
      "68.5 -45.0 Gr None None None None ICE_SHEET CW None None None None GrIS None\n"
     ]
    }
   ],
   "source": [
    "# Print header\n",
    "print(\"#lat lon Ant/Gr Ant_IS_R Ant_ISSub_R Ant_Basin_R Ant_BasinSub_R Gr_IS_R Gr_Basin_R, Ant_IS_Z Ant_ISSub_Z Ant_Basin_Z Ant_BasinSub_Z Gr_IS_Z Gr_Basin_Z\")\n",
    "print(\"# *_R = Rignot, Z = *_Zwally\")\n",
    "# Loop over SNOWPACK points\n",
    "for i in SP_pts:\n",
    "    pt = Point(i[1], i[0])                  # WGS-84, EPSG:4326\n",
    "    pt_aps = transform(project_to_aps, pt)  # Antarctic Polar Stereographic, EPSG: 3031\n",
    "\n",
    "\n",
    "    #\n",
    "    # Rignot\n",
    "    #\n",
    "\n",
    "    # Initialize info for Antarctica\n",
    "    Ant = False\n",
    "    regAB = None      # Region Antarctic Basins\n",
    "    subregAB = None   # Subregion Antarctic Basins\n",
    "    regAIS = None     # Region Antarctic Icesheet\n",
    "    subregAIS = None  # Subregion Antarctic Icesheet\n",
    "    # Initialize info for Greenland\n",
    "    Gr = False\n",
    "    regGB = None      # Region Greenland Basins\n",
    "    regGIS = None     # Region Greenland Icesheet\n",
    "\n",
    "    # Check Antarctica\n",
    "    for f in fiona.open(ais_basins_shapefile):\n",
    "        g=shape(f['geometry'])\n",
    "        if g.contains(pt_aps):\n",
    "            Ant = True\n",
    "            regAB = f['properties']['Regions']\n",
    "            subregAB = f['properties']['Subregion']\n",
    "    for f in fiona.open(ais_icesheets_shapefile):\n",
    "        g=shape(f['geometry'])\n",
    "        if g.contains(pt_aps):\n",
    "            Ant = True\n",
    "            regAIS=f['properties']['Regions']\n",
    "            subregAIS=f['properties']['Subregion']\n",
    "\n",
    "    # Check Greenland\n",
    "    for f in fiona.open(gris_basins_shapefile):\n",
    "        g=shape(f['geometry'])\n",
    "        if g.contains(pt):\n",
    "            Gr = True\n",
    "            regGB = f['properties']['SUBREGION1']\n",
    "    for f in fiona.open(gris_icesheets_shapefile):\n",
    "        g=shape(f['geometry'])\n",
    "        if g.contains(pt):\n",
    "            Gr = True\n",
    "            regGIS = f['properties']['SUBREGION1']\n",
    "\n",
    "    # print info\n",
    "    print(i[0], i[1], end = '')\n",
    "    if Ant:\n",
    "        print(' Ant', end = '')\n",
    "    elif Gr:\n",
    "        print(' Gr', end = '')\n",
    "    else:\n",
    "        print(' None', end = '')\n",
    "    print('', regAIS, subregAIS, regAB, subregAB, regGIS, regGB, end = '')\n",
    "\n",
    "\n",
    "    #\n",
    "    # Zwally\n",
    "    #\n",
    "\n",
    "    # Initialize variables for Antarctica\n",
    "    Ant = False\n",
    "    regAB = None      # Region Antarctic Basins\n",
    "    subregAB = None   # Subregion Antarctic Basins\n",
    "    regAIS = None     # Region Antarctic Icesheet\n",
    "    subregAIS = None  # Subregion Antarctic Icesheet\n",
    "    # Initialize variables for Greenland\n",
    "    Gr = False\n",
    "    regGB = None      # Region Greenland Basins\n",
    "    regGIS = None     # Region Greenland Icesheet\n",
    "\n",
    "    # Check Antarctica\n",
    "    for n in range(28, 31):  # Loop over the Antarctic Icesheets\n",
    "        if AIS_pl_zw[n].contains(pt_aps):\n",
    "            Ant = True\n",
    "            regAIS=AIS[n]\n",
    "            subregAIS=\"None\"\n",
    "\n",
    "    # Check Greenland\n",
    "    if GrIS_pl_zw.contains(pt):\n",
    "        Gr = True\n",
    "        regGIS = \"GrIS\"\n",
    "    print('', regAIS, subregAIS, regAB, subregAB, regGIS, regGB)"
   ]
  },
  {
   "cell_type": "code",
   "execution_count": null,
   "metadata": {},
   "outputs": [],
   "source": []
  }
 ],
 "metadata": {
  "kernelspec": {
   "display_name": "Python 3",
   "language": "python",
   "name": "python3"
  },
  "language_info": {
   "codemirror_mode": {
    "name": "ipython",
    "version": 3
   },
   "file_extension": ".py",
   "mimetype": "text/x-python",
   "name": "python",
   "nbconvert_exporter": "python",
   "pygments_lexer": "ipython3",
   "version": "3.7.3"
  }
 },
 "nbformat": 4,
 "nbformat_minor": 2
}
